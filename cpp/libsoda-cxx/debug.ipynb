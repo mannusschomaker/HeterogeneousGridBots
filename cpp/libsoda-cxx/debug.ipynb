{
 "cells": [
  {
   "cell_type": "code",
   "execution_count": 14,
   "id": "d07c21c0",
   "metadata": {},
   "outputs": [],
   "source": [
    "import numpy as np \n",
    "import matplotlib.pyplot as plt "
   ]
  },
  {
   "cell_type": "code",
   "execution_count": 26,
   "id": "55d95f5c",
   "metadata": {},
   "outputs": [],
   "source": [
    "a = [] \n",
    "for l in open(\"test.txt\",\"r\").readlines()[1:]: \n",
    "    a.append([float(x) for x in l.split(\",\")[:-1]])\n",
    "arr = np.array(a)"
   ]
  },
  {
   "cell_type": "code",
   "execution_count": 27,
   "id": "b8e53f20",
   "metadata": {},
   "outputs": [
    {
     "data": {
      "text/plain": [
       "array([ 0.00184289,  0.00098287,  0.        , -0.00098287,  0.        ,\n",
       "       -0.05      ,  0.        ,  0.05      ,  0.        ])"
      ]
     },
     "execution_count": 27,
     "metadata": {},
     "output_type": "execute_result"
    }
   ],
   "source": [
    "arr[0]"
   ]
  },
  {
   "cell_type": "code",
   "execution_count": 28,
   "id": "e1187bc1",
   "metadata": {
    "scrolled": true
   },
   "outputs": [
    {
     "data": {
      "text/plain": [
       "9"
      ]
     },
     "execution_count": 28,
     "metadata": {},
     "output_type": "execute_result"
    }
   ],
   "source": [
    "len(arr[0])"
   ]
  },
  {
   "cell_type": "code",
   "execution_count": 29,
   "id": "ef28c62b",
   "metadata": {},
   "outputs": [
    {
     "data": {
      "text/plain": [
       "(-0.07, 0.07)"
      ]
     },
     "execution_count": 29,
     "metadata": {},
     "output_type": "execute_result"
    },
    {
     "data": {
      "image/png": "[encoded data removed]",
      "text/plain": [
       "<Figure size 432x288 with 1 Axes>"
      ]
     },
     "metadata": {
      "needs_background": "light"
     },
     "output_type": "display_data"
    }
   ],
   "source": [
    "plt.scatter(arr[:,5],arr[:,6])\n",
    "plt.scatter(arr[:,7],arr[:,8])\n",
    "plt.xlim(-0.07,0.07); plt.ylim(-0.07,0.07)"
   ]
  },
  {
   "cell_type": "code",
   "execution_count": 30,
   "id": "40cd72a1",
   "metadata": {},
   "outputs": [
    {
     "data": {
      "text/plain": [
       "<matplotlib.collections.PathCollection at 0x7faa70d80fd0>"
      ]
     },
     "execution_count": 30,
     "metadata": {},
     "output_type": "execute_result"
    },
    {
     "data": {
      "image/png": "[encoded data removed]",
      "text/plain": [
       "<Figure size 432x288 with 1 Axes>"
      ]
     },
     "metadata": {
      "needs_background": "light"
     },
     "output_type": "display_data"
    }
   ],
   "source": [
    "plt.scatter(arr[:,0],arr[:,7])\n",
    "plt.scatter(arr[:,0],arr[:,8])"
   ]
  },
  {
   "cell_type": "code",
   "execution_count": 7,
   "id": "dffce56c",
   "metadata": {},
   "outputs": [
    {
     "ename": "IndexError",
     "evalue": "index 9 is out of bounds for axis 1 with size 9",
     "output_type": "error",
     "traceback": [
      "\u001b[0;31m---------------------------------------------------------------------------\u001b[0m",
      "\u001b[0;31mIndexError\u001b[0m                                Traceback (most recent call last)",
      "Input \u001b[0;32mIn [7]\u001b[0m, in \u001b[0;36m<cell line: 1>\u001b[0;34m()\u001b[0m\n\u001b[0;32m----> 1\u001b[0m plt\u001b[38;5;241m.\u001b[39mscatter(\u001b[43marr\u001b[49m\u001b[43m[\u001b[49m\u001b[43m:\u001b[49m\u001b[43m,\u001b[49m\u001b[38;5;241;43m9\u001b[39;49m\u001b[43m]\u001b[49m,arr[:,\u001b[38;5;241m10\u001b[39m])\n\u001b[1;32m      2\u001b[0m plt\u001b[38;5;241m.\u001b[39mscatter(arr[:,\u001b[38;5;241m11\u001b[39m],arr[:,\u001b[38;5;241m12\u001b[39m])\n\u001b[1;32m      3\u001b[0m plt\u001b[38;5;241m.\u001b[39mscatter(arr[:,\u001b[38;5;241m13\u001b[39m],arr[:,\u001b[38;5;241m14\u001b[39m])\n",
      "\u001b[0;31mIndexError\u001b[0m: index 9 is out of bounds for axis 1 with size 9"
     ]
    }
   ],
   "source": [
    "plt.scatter(arr[:,9],arr[:,10])\n",
    "plt.scatter(arr[:,11],arr[:,12])\n",
    "plt.scatter(arr[:,13],arr[:,14])\n",
    "plt.scatter(arr[:,15],arr[:,16])"
   ]
  },
  {
   "cell_type": "code",
   "execution_count": 307,
   "id": "1a18062b",
   "metadata": {},
   "outputs": [
    {
     "ename": "IndexError",
     "evalue": "index 15 is out of bounds for axis 1 with size 9",
     "output_type": "error",
     "traceback": [
      "\u001b[0;31m---------------------------------------------------------------------------\u001b[0m",
      "\u001b[0;31mIndexError\u001b[0m                                Traceback (most recent call last)",
      "Input \u001b[0;32mIn [307]\u001b[0m, in \u001b[0;36m<cell line: 1>\u001b[0;34m()\u001b[0m\n\u001b[0;32m----> 1\u001b[0m plt\u001b[38;5;241m.\u001b[39mscatter(arr[:,\u001b[38;5;241m0\u001b[39m],\u001b[43marr\u001b[49m\u001b[43m[\u001b[49m\u001b[43m:\u001b[49m\u001b[43m,\u001b[49m\u001b[38;5;241;43m15\u001b[39;49m\u001b[43m]\u001b[49m)\n",
      "\u001b[0;31mIndexError\u001b[0m: index 15 is out of bounds for axis 1 with size 9"
     ]
    }
   ],
   "source": [
    "plt.scatter(arr[:,0],arr[:,15])"
   ]
  },
  {
   "cell_type": "code",
   "execution_count": 310,
   "id": "ee419c18",
   "metadata": {},
   "outputs": [
    {
     "data": {
      "text/plain": [
       "1023"
      ]
     },
     "execution_count": 310,
     "metadata": {},
     "output_type": "execute_result"
    }
   ],
   "source": [
    "len(arr[:,0])"
   ]
  },
  {
   "cell_type": "code",
   "execution_count": 309,
   "id": "45a988da",
   "metadata": {},
   "outputs": [
    {
     "data": {
      "text/plain": [
       "17.5667"
      ]
     },
     "execution_count": 309,
     "metadata": {},
     "output_type": "execute_result"
    }
   ],
   "source": [
    "max(arr[:,0])"
   ]
  },
  {
   "cell_type": "code",
   "execution_count": 246,
   "id": "db918a10",
   "metadata": {},
   "outputs": [
    {
     "data": {
      "text/plain": [
       "[<matplotlib.collections.PathCollection at 0x7fd0e26f32e0>,\n",
       " <matplotlib.collections.PathCollection at 0x7fd0e26f3730>,\n",
       " <matplotlib.collections.PathCollection at 0x7fd0e26d7370>,\n",
       " <matplotlib.collections.PathCollection at 0x7fd0e26f3d90>,\n",
       " <matplotlib.collections.PathCollection at 0x7fd0c1739220>,\n",
       " <matplotlib.collections.PathCollection at 0x7fd0c1739670>,\n",
       " <matplotlib.collections.PathCollection at 0x7fd0c1739ac0>]"
      ]
     },
     "execution_count": 246,
     "metadata": {},
     "output_type": "execute_result"
    },
    {
     "data": {
      "image/png": "[encoded data removed]",
      "text/plain": [
       "<Figure size 432x288 with 1 Axes>"
      ]
     },
     "metadata": {
      "needs_background": "light"
     },
     "output_type": "display_data"
    }
   ],
   "source": [
    "[plt.scatter(arr[:,0],arr[:,i]) for i in range(9,16)]"
   ]
  },
  {
   "cell_type": "code",
   "execution_count": 308,
   "id": "c8826ada",
   "metadata": {},
   "outputs": [
    {
     "data": {
      "text/plain": [
       "[<matplotlib.lines.Line2D at 0x7fd0c1314b20>]"
      ]
     },
     "execution_count": 308,
     "metadata": {},
     "output_type": "execute_result"
    },
    {
     "data": {
      "image/png": "[encoded data removed]",
      "text/plain": [
       "<Figure size 432x288 with 1 Axes>"
      ]
     },
     "metadata": {
      "needs_background": "light"
     },
     "output_type": "display_data"
    }
   ],
   "source": [
    "plt.plot(arr[:,0])"
   ]
  },
  {
   "cell_type": "code",
   "execution_count": null,
   "id": "e730aac0",
   "metadata": {},
   "outputs": [],
   "source": []
  },
  {
   "cell_type": "code",
   "execution_count": null,
   "id": "410b1d3b",
   "metadata": {},
   "outputs": [],
   "source": []
  },
  {
   "cell_type": "code",
   "execution_count": null,
   "id": "21d2aa19",
   "metadata": {},
   "outputs": [],
   "source": []
  }
 ],
 "metadata": {
  "kernelspec": {
   "display_name": "Python 3 (ipykernel)",
   "language": "python",
   "name": "python3"
  },
  "language_info": {
   "codemirror_mode": {
    "name": "ipython",
    "version": 3
   },
   "file_extension": ".py",
   "mimetype": "text/x-python",
   "name": "python",
   "nbconvert_exporter": "python",
   "pygments_lexer": "ipython3",
   "version": "3.9.12"
  }
 },
 "nbformat": 4,
 "nbformat_minor": 5
}
