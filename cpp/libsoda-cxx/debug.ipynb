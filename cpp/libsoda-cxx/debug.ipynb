{
 "cells": [
  {
   "cell_type": "code",
   "execution_count": 1,
   "id": "d07c21c0",
   "metadata": {},
   "outputs": [],
   "source": [
    "import numpy as np \n",
    "import matplotlib.pyplot as plt "
   ]
  },
  {
   "cell_type": "code",
   "execution_count": 21,
   "id": "00ad6c9d",
   "metadata": {},
   "outputs": [],
   "source": [
    "nd = 8"
   ]
  },
  {
   "cell_type": "code",
   "execution_count": 22,
   "id": "55d95f5c",
   "metadata": {},
   "outputs": [
    {
     "name": "stdout",
     "output_type": "stream",
     "text": [
      "(25, 16)\n"
     ]
    }
   ],
   "source": [
    "a = [] \n",
    "for l in open(\"test.txt\",\"r\").readlines()[1::2]: \n",
    "    a.append([float(x) for x in l.split(\",\")[:-1]])\n",
    "arr = np.array(a); print(arr.shape)"
   ]
  },
  {
   "cell_type": "code",
   "execution_count": 4,
   "id": "749be63f",
   "metadata": {},
   "outputs": [
    {
     "name": "stdout",
     "output_type": "stream",
     "text": [
      "(11840, 18)\n"
     ]
    }
   ],
   "source": [
    "b = [] \n",
    "for l in open(\"test.txt\",\"r\").readlines()[0::2]: \n",
    "    b.append([float(x) for x in l.split(\",\")[:-1]])\n",
    "arr2 = np.array(b); print(arr2.shape)"
   ]
  },
  {
   "cell_type": "code",
   "execution_count": 23,
   "id": "b8e53f20",
   "metadata": {},
   "outputs": [
    {
     "data": {
      "text/plain": [
       "array([-0.0531029 , -0.0404975 , -0.00594276, -0.04075   , -0.052687  ,\n",
       "        0.00649628, -0.00545959,  0.00595738,  0.0413381 , -0.0409806 ,\n",
       "        0.0409314 ,  0.00627312, -0.00540553,  0.0520061 ,  0.0404678 ,\n",
       "        0.0523709 ])"
      ]
     },
     "execution_count": 23,
     "metadata": {},
     "output_type": "execute_result"
    }
   ],
   "source": [
    "arr[0]"
   ]
  },
  {
   "cell_type": "code",
   "execution_count": 24,
   "id": "30360f14",
   "metadata": {
    "scrolled": true
   },
   "outputs": [
    {
     "data": {
      "text/plain": [
       "<matplotlib.collections.PathCollection at 0x7fadf83a11f0>"
      ]
     },
     "execution_count": 24,
     "metadata": {},
     "output_type": "execute_result"
    },
    {
     "data": {
      "image/png": "[encoded data removed]",
      "text/plain": [
       "<Figure size 432x288 with 1 Axes>"
      ]
     },
     "metadata": {
      "needs_background": "light"
     },
     "output_type": "display_data"
    }
   ],
   "source": [
    "xi = arr[1][-2*nd::2]; yi = arr[1][-2*nd+1::2];\n",
    "plt.scatter(xi,yi)"
   ]
  },
  {
   "cell_type": "code",
   "execution_count": 75,
   "id": "a20934e6",
   "metadata": {},
   "outputs": [
    {
     "data": {
      "text/plain": [
       "<matplotlib.collections.PathCollection at 0x7fada9efe940>"
      ]
     },
     "execution_count": 75,
     "metadata": {},
     "output_type": "execute_result"
    },
    {
     "data": {
      "image/png": "[encoded data removed]",
      "text/plain": [
       "<Figure size 432x288 with 1 Axes>"
      ]
     },
     "metadata": {
      "needs_background": "light"
     },
     "output_type": "display_data"
    }
   ],
   "source": [
    "for i in range(0,len(arr)):\n",
    "    xi = arr[i][-2*nd::2]; yi = arr[i][-2*nd+1::2];\n",
    "    plt.scatter(xi,yi)\n",
    "#plt.scatter(*np.mean([arr[:,::2],arr[:,1::2]],axis=2))\n",
    "#plt.scatter(arr1[:,0],arr1[:,1])\n",
    "plt.scatter(df[\"comx\"],df[\"comy\"])"
   ]
  },
  {
   "cell_type": "code",
   "execution_count": 76,
   "id": "b7d0d4a2",
   "metadata": {},
   "outputs": [
    {
     "ename": "ValueError",
     "evalue": "could not convert string to float: ''",
     "output_type": "error",
     "traceback": [
      "\u001b[0;31m---------------------------------------------------------------------------\u001b[0m",
      "\u001b[0;31mValueError\u001b[0m                                Traceback (most recent call last)",
      "Input \u001b[0;32mIn [76]\u001b[0m, in \u001b[0;36m<cell line: 2>\u001b[0;34m()\u001b[0m\n\u001b[1;32m      1\u001b[0m a \u001b[38;5;241m=\u001b[39m [] \n\u001b[1;32m      2\u001b[0m \u001b[38;5;28;01mfor\u001b[39;00m l \u001b[38;5;129;01min\u001b[39;00m \u001b[38;5;28mopen\u001b[39m(\u001b[38;5;124m\"\u001b[39m\u001b[38;5;124mtest.txt\u001b[39m\u001b[38;5;124m\"\u001b[39m,\u001b[38;5;124m\"\u001b[39m\u001b[38;5;124mr\u001b[39m\u001b[38;5;124m\"\u001b[39m)\u001b[38;5;241m.\u001b[39mreadlines()[\u001b[38;5;241m1\u001b[39m::\u001b[38;5;241m2\u001b[39m]: \n\u001b[0;32m----> 3\u001b[0m     a\u001b[38;5;241m.\u001b[39mappend([\u001b[38;5;28mfloat\u001b[39m(x) \u001b[38;5;28;01mfor\u001b[39;00m x \u001b[38;5;129;01min\u001b[39;00m l\u001b[38;5;241m.\u001b[39msplit(\u001b[38;5;124m\"\u001b[39m\u001b[38;5;124m,\u001b[39m\u001b[38;5;124m\"\u001b[39m)[:]])\n\u001b[1;32m      4\u001b[0m arr1 \u001b[38;5;241m=\u001b[39m np\u001b[38;5;241m.\u001b[39marray(a); \u001b[38;5;28mprint\u001b[39m(arr1\u001b[38;5;241m.\u001b[39mshape)\n",
      "Input \u001b[0;32mIn [76]\u001b[0m, in \u001b[0;36m<listcomp>\u001b[0;34m(.0)\u001b[0m\n\u001b[1;32m      1\u001b[0m a \u001b[38;5;241m=\u001b[39m [] \n\u001b[1;32m      2\u001b[0m \u001b[38;5;28;01mfor\u001b[39;00m l \u001b[38;5;129;01min\u001b[39;00m \u001b[38;5;28mopen\u001b[39m(\u001b[38;5;124m\"\u001b[39m\u001b[38;5;124mtest.txt\u001b[39m\u001b[38;5;124m\"\u001b[39m,\u001b[38;5;124m\"\u001b[39m\u001b[38;5;124mr\u001b[39m\u001b[38;5;124m\"\u001b[39m)\u001b[38;5;241m.\u001b[39mreadlines()[\u001b[38;5;241m1\u001b[39m::\u001b[38;5;241m2\u001b[39m]: \n\u001b[0;32m----> 3\u001b[0m     a\u001b[38;5;241m.\u001b[39mappend([\u001b[38;5;28;43mfloat\u001b[39;49m\u001b[43m(\u001b[49m\u001b[43mx\u001b[49m\u001b[43m)\u001b[49m \u001b[38;5;28;01mfor\u001b[39;00m x \u001b[38;5;129;01min\u001b[39;00m l\u001b[38;5;241m.\u001b[39msplit(\u001b[38;5;124m\"\u001b[39m\u001b[38;5;124m,\u001b[39m\u001b[38;5;124m\"\u001b[39m)[:]])\n\u001b[1;32m      4\u001b[0m arr1 \u001b[38;5;241m=\u001b[39m np\u001b[38;5;241m.\u001b[39marray(a); \u001b[38;5;28mprint\u001b[39m(arr1\u001b[38;5;241m.\u001b[39mshape)\n",
      "\u001b[0;31mValueError\u001b[0m: could not convert string to float: ''"
     ]
    }
   ],
   "source": [
    "a = [] \n",
    "for l in open(\"test.txt\",\"r\").readlines()[1::2]: \n",
    "    a.append([float(x) for x in l.split(\",\")[:]])\n",
    "arr1 = np.array(a); print(arr1.shape)"
   ]
  },
  {
   "cell_type": "code",
   "execution_count": 53,
   "id": "beccd5ab",
   "metadata": {},
   "outputs": [
    {
     "data": {
      "text/plain": [
       "<matplotlib.collections.PathCollection at 0x7fadda2b4130>"
      ]
     },
     "execution_count": 53,
     "metadata": {},
     "output_type": "execute_result"
    },
    {
     "data": {
      "image/png": "[encoded data removed]",
      "text/plain": [
       "<Figure size 432x288 with 1 Axes>"
      ]
     },
     "metadata": {
      "needs_background": "light"
     },
     "output_type": "display_data"
    }
   ],
   "source": [
    "plt.scatter(arr1[:,0],arr1[:,1])"
   ]
  },
  {
   "cell_type": "code",
   "execution_count": 51,
   "id": "92c07e0f",
   "metadata": {
    "scrolled": false
   },
   "outputs": [
    {
     "ename": "IndexError",
     "evalue": "index 17 is out of bounds for axis 1 with size 16",
     "output_type": "error",
     "traceback": [
      "\u001b[0;31m---------------------------------------------------------------------------\u001b[0m",
      "\u001b[0;31mIndexError\u001b[0m                                Traceback (most recent call last)",
      "Input \u001b[0;32mIn [51]\u001b[0m, in \u001b[0;36m<cell line: 2>\u001b[0;34m()\u001b[0m\n\u001b[1;32m      1\u001b[0m indexer \u001b[38;5;241m=\u001b[39m arr[:,\u001b[38;5;241m-\u001b[39m\u001b[38;5;241m2\u001b[39m\u001b[38;5;241m*\u001b[39mnd\u001b[38;5;241m+\u001b[39m\u001b[38;5;241m1\u001b[39m] \u001b[38;5;241m>\u001b[39m \u001b[38;5;241m0.0241\u001b[39m\n\u001b[0;32m----> 2\u001b[0m plt\u001b[38;5;241m.\u001b[39mscatter(arr[:,\u001b[38;5;241m0\u001b[39m][indexer],\u001b[43marr\u001b[49m\u001b[43m[\u001b[49m\u001b[43m:\u001b[49m\u001b[43m,\u001b[49m\u001b[38;5;241;43m2\u001b[39;49m\u001b[38;5;241;43m*\u001b[39;49m\u001b[43mnd\u001b[49m\u001b[38;5;241;43m+\u001b[39;49m\u001b[38;5;241;43m1\u001b[39;49m\u001b[43m]\u001b[49m[indexer])\n",
      "\u001b[0;31mIndexError\u001b[0m: index 17 is out of bounds for axis 1 with size 16"
     ]
    }
   ],
   "source": [
    "indexer = arr[:,-2*nd+1] > 0.0241\n",
    "plt.scatter(arr[:,0][indexer],arr[:,2*nd+1][indexer])  # only upper part close to max"
   ]
  },
  {
   "cell_type": "code",
   "execution_count": 490,
   "id": "2ea9b189",
   "metadata": {},
   "outputs": [
    {
     "data": {
      "text/plain": [
       "<matplotlib.collections.PathCollection at 0x7faa92a1c520>"
      ]
     },
     "execution_count": 490,
     "metadata": {},
     "output_type": "execute_result"
    },
    {
     "data": {
      "image/png": "[encoded data removed]",
      "text/plain": [
       "<Figure size 432x288 with 1 Axes>"
      ]
     },
     "metadata": {
      "needs_background": "light"
     },
     "output_type": "display_data"
    }
   ],
   "source": [
    "plt.scatter(arr[:,0],arr2[:,1])  # l0 (actuation function)"
   ]
  },
  {
   "cell_type": "code",
   "execution_count": 491,
   "id": "55552f87",
   "metadata": {
    "scrolled": true
   },
   "outputs": [
    {
     "data": {
      "text/plain": [
       "[<matplotlib.collections.PathCollection at 0x7faa50b265b0>,\n",
       " <matplotlib.collections.PathCollection at 0x7faa872c4340>,\n",
       " <matplotlib.collections.PathCollection at 0x7faa548cb970>,\n",
       " <matplotlib.collections.PathCollection at 0x7faa548cbdc0>,\n",
       " <matplotlib.collections.PathCollection at 0x7faa548d8250>,\n",
       " <matplotlib.collections.PathCollection at 0x7faa548d86a0>,\n",
       " <matplotlib.collections.PathCollection at 0x7faa548d8af0>,\n",
       " <matplotlib.collections.PathCollection at 0x7faa548cbd60>,\n",
       " <matplotlib.collections.PathCollection at 0x7faa548d81f0>,\n",
       " <matplotlib.collections.PathCollection at 0x7faa548e94c0>,\n",
       " <matplotlib.collections.PathCollection at 0x7faa548e9850>,\n",
       " <matplotlib.collections.PathCollection at 0x7faa548e9d30>,\n",
       " <matplotlib.collections.PathCollection at 0x7faa548f81c0>,\n",
       " <matplotlib.collections.PathCollection at 0x7faa548f8610>,\n",
       " <matplotlib.collections.PathCollection at 0x7faa548e9490>,\n",
       " <matplotlib.collections.PathCollection at 0x7faa548f8be0>,\n",
       " <matplotlib.collections.PathCollection at 0x7faa548f8fa0>,\n",
       " <matplotlib.collections.PathCollection at 0x7faa549064c0>]"
      ]
     },
     "execution_count": 491,
     "metadata": {},
     "output_type": "execute_result"
    },
    {
     "data": {
      "image/png": "[encoded data removed]",
      "text/plain": [
       "<Figure size 432x288 with 1 Axes>"
      ]
     },
     "metadata": {
      "needs_background": "light"
     },
     "output_type": "display_data"
    }
   ],
   "source": [
    "[plt.scatter(arr[:,0],arr2[:,i]) for i in range(len(arr2[0]))]"
   ]
  },
  {
   "cell_type": "code",
   "execution_count": 493,
   "id": "45a988da",
   "metadata": {},
   "outputs": [
    {
     "data": {
      "text/plain": [
       "9.00249"
      ]
     },
     "execution_count": 493,
     "metadata": {},
     "output_type": "execute_result"
    }
   ],
   "source": [
    "max(arr[:,0])"
   ]
  },
  {
   "cell_type": "code",
   "execution_count": 528,
   "id": "db918a10",
   "metadata": {},
   "outputs": [
    {
     "data": {
      "text/plain": [
       "[<matplotlib.collections.PathCollection at 0x7faa20ab7fd0>,\n",
       " <matplotlib.collections.PathCollection at 0x7faa20a45ee0>,\n",
       " <matplotlib.collections.PathCollection at 0x7faa83484880>,\n",
       " <matplotlib.collections.PathCollection at 0x7faa20a54610>,\n",
       " <matplotlib.collections.PathCollection at 0x7faa20a54a60>,\n",
       " <matplotlib.collections.PathCollection at 0x7faa20a54eb0>,\n",
       " <matplotlib.collections.PathCollection at 0x7faa20a62340>,\n",
       " <matplotlib.collections.PathCollection at 0x7faa20a62790>,\n",
       " <matplotlib.collections.PathCollection at 0x7faa20a62be0>,\n",
       " <matplotlib.collections.PathCollection at 0x7faa20a54520>,\n",
       " <matplotlib.collections.PathCollection at 0x7faa652000a0>,\n",
       " <matplotlib.collections.PathCollection at 0x7faa65200580>,\n",
       " <matplotlib.collections.PathCollection at 0x7faa652009d0>,\n",
       " <matplotlib.collections.PathCollection at 0x7faa65200e20>]"
      ]
     },
     "execution_count": 528,
     "metadata": {},
     "output_type": "execute_result"
    },
    {
     "data": {
      "image/png": "[encoded data removed]",
      "text/plain": [
       "<Figure size 432x288 with 1 Axes>"
      ]
     },
     "metadata": {
      "needs_background": "light"
     },
     "output_type": "display_data"
    }
   ],
   "source": [
    "[plt.scatter(arr[:,0],arr[:,i]) for i in range(2*nd+2,4*nd)]"
   ]
  },
  {
   "cell_type": "code",
   "execution_count": 529,
   "id": "c8826ada",
   "metadata": {},
   "outputs": [
    {
     "data": {
      "text/plain": [
       "[<matplotlib.lines.Line2D at 0x7faa55bd12e0>]"
      ]
     },
     "execution_count": 529,
     "metadata": {},
     "output_type": "execute_result"
    },
    {
     "data": {
      "image/png": "[encoded data removed]",
      "text/plain": [
       "<Figure size 432x288 with 1 Axes>"
      ]
     },
     "metadata": {
      "needs_background": "light"
     },
     "output_type": "display_data"
    }
   ],
   "source": [
    "plt.plot(arr[:,0])"
   ]
  },
  {
   "cell_type": "code",
   "execution_count": null,
   "id": "8aabf941",
   "metadata": {},
   "outputs": [],
   "source": []
  },
  {
   "cell_type": "code",
   "execution_count": null,
   "id": "becf82d0",
   "metadata": {},
   "outputs": [],
   "source": []
  },
  {
   "cell_type": "code",
   "execution_count": 315,
   "id": "ccceb1c3",
   "metadata": {},
   "outputs": [],
   "source": [
    "import pandas as pd\n",
    "import matplotlib.pyplot as plt\n",
    "import matplotlib as mpl\n",
    "from matplotlib.colorbar import ColorbarBase\n",
    "from mpl_toolkits.axes_grid1 import make_axes_locatable"
   ]
  },
  {
   "cell_type": "code",
   "execution_count": 316,
   "id": "e730aac0",
   "metadata": {},
   "outputs": [
    {
     "name": "stdout",
     "output_type": "stream",
     "text": [
      "(50, 17)\n",
      "(50, 3)\n"
     ]
    }
   ],
   "source": [
    "a = [] \n",
    "for l in open(\"test.txt\",\"r\").readlines()[::2]: \n",
    "    a.append([float(x) for x in l.split(\",\")[:-1]])\n",
    "arr = np.array(a); print(arr.shape)\n",
    "a = [] \n",
    "for l in open(\"test.txt\",\"r\").readlines()[1::2]: \n",
    "    a.append([float(x) for x in l.split(\",\")[:]])\n",
    "arr2 = np.array(a); print(arr2.shape)"
   ]
  },
  {
   "cell_type": "code",
   "execution_count": 317,
   "id": "60df8d54",
   "metadata": {},
   "outputs": [],
   "source": [
    "sol_col = np.array([[f\"x{i}\", f\"y{i}\"] for i in range(nd)]).flatten().tolist()\n",
    "df = pd.DataFrame(arr,columns=[\"t\"] + sol_col)\n",
    "df = df.assign(comx=df[sol_col[::2]].mean(axis=1),comy=df[sol_col[1::2]].mean(axis=1))\n",
    "df = df.assign(vx=[0] + [(df.comx[i]-df.comx[i-1])/(df.t[i]-df.t[i-1]) for i in range(1,len(df.comx))])\n",
    "shifted = np.array([x.to_numpy()-df[[\"comx\",\"comy\"]].to_numpy() for x in np.split(df[sol_col],nd,axis=1)])\n",
    "df = df.assign(angle=(-np.mean([np.unwrap([np.arctan2(*r)-np.arctan2(*v[0]) for r in v]) \n",
    "                            for v in shifted],axis=0))) # no mod 2 pi here because small change, also everything in radiants "
   ]
  },
  {
   "cell_type": "code",
   "execution_count": 318,
   "id": "07e7dc83",
   "metadata": {},
   "outputs": [
    {
     "data": {
      "text/plain": [
       "<matplotlib.collections.PathCollection at 0x7fadbb65abe0>"
      ]
     },
     "execution_count": 318,
     "metadata": {},
     "output_type": "execute_result"
    },
    {
     "data": {
      "image/png": "[encoded data removed]",
      "text/plain": [
       "<Figure size 432x288 with 1 Axes>"
      ]
     },
     "metadata": {
      "needs_background": "light"
     },
     "output_type": "display_data"
    }
   ],
   "source": [
    "for i in range(0,len(arr)):\n",
    "    xi = arr[i][-2*nd::2]; yi = arr[i][-2*nd+1::2];\n",
    "    plt.scatter(xi,yi)\n",
    "plt.scatter(np.mean(arr[:,1::2],axis=1),np.mean(arr[:,2::2],axis=1))\n",
    "plt.scatter(arr2[:,0],arr2[:,1])"
   ]
  },
  {
   "cell_type": "code",
   "execution_count": 319,
   "id": "68806fe7",
   "metadata": {
    "scrolled": false
   },
   "outputs": [
    {
     "data": {
      "text/plain": [
       "<matplotlib.collections.PathCollection at 0x7fadac3cb730>"
      ]
     },
     "execution_count": 319,
     "metadata": {},
     "output_type": "execute_result"
    },
    {
     "data": {
      "image/png": "[encoded data removed]",
      "text/plain": [
       "<Figure size 432x288 with 1 Axes>"
      ]
     },
     "metadata": {
      "needs_background": "light"
     },
     "output_type": "display_data"
    }
   ],
   "source": [
    "plt.scatter(np.mean(arr[:,1::2],axis=1),np.mean(arr[:,2::2],axis=1))\n",
    "plt.scatter(arr2[:,0],arr2[:,1])\n",
    "plt.scatter(df[\"comx\"],df[\"comy\"])"
   ]
  },
  {
   "cell_type": "code",
   "execution_count": 320,
   "id": "11426933",
   "metadata": {
    "scrolled": true
   },
   "outputs": [
    {
     "data": {
      "text/plain": [
       "<matplotlib.collections.PathCollection at 0x7fadac4601f0>"
      ]
     },
     "execution_count": 320,
     "metadata": {},
     "output_type": "execute_result"
    },
    {
     "data": {
      "image/png": "[encoded data removed]",
      "text/plain": [
       "<Figure size 432x288 with 1 Axes>"
      ]
     },
     "metadata": {
      "needs_background": "light"
     },
     "output_type": "display_data"
    }
   ],
   "source": [
    "plt.scatter(np.arange(len(df)-2),np.diff(df[\"angle\"][1:]))\n",
    "plt.scatter(np.arange(len(arr2)-1),arr2[1:,2])"
   ]
  },
  {
   "cell_type": "code",
   "execution_count": 321,
   "id": "67936f91",
   "metadata": {},
   "outputs": [
    {
     "data": {
      "text/plain": [
       "(0.007309973893115441, 0.007311234400000001)"
      ]
     },
     "execution_count": 321,
     "metadata": {},
     "output_type": "execute_result"
    }
   ],
   "source": [
    "np.mean(np.diff(df[\"angle\"])),np.mean(arr2[:,2])"
   ]
  },
  {
   "cell_type": "code",
   "execution_count": 322,
   "id": "9924e694",
   "metadata": {},
   "outputs": [],
   "source": [
    "tpl = (df[\"angle\"].tolist()[-1],arr[-1,2])"
   ]
  },
  {
   "cell_type": "code",
   "execution_count": 323,
   "id": "21d2aa19",
   "metadata": {},
   "outputs": [],
   "source": [
    "def phase_heatmap(df, colname, ax, title, size=110, minv=None, maxv=None, phase1=\"phase 0\", phase2=\"phase 1\"):\n",
    "    if minv == None and maxv == None: \n",
    "        minv = df[colname].min(); maxv = df[colname].max()\n",
    "    ax.set(xlim=(0,2),ylim=(0,2),title=title); ax.set_aspect(1)\n",
    "    ax.scatter(df[phase1], df[phase2], cmap=mpl.colormaps[\"plasma\"],marker=\"s\",\n",
    "        c=mpl.colors.Normalize(minv,maxv)(df[colname]),s=size)\n",
    "    divider = make_axes_locatable(ax); cax = divider.append_axes(\"right\", size=\"5%\", pad=0.05)\n",
    "    ColorbarBase(cax,cmap=mpl.colormaps[\"plasma\"],norm=mpl.colors.Normalize(minv,maxv))"
   ]
  },
  {
   "cell_type": "code",
   "execution_count": null,
   "id": "c7477f86",
   "metadata": {},
   "outputs": [],
   "source": []
  },
  {
   "cell_type": "code",
   "execution_count": 295,
   "id": "0f1c3849",
   "metadata": {},
   "outputs": [],
   "source": [
    "a = []\n",
    "for l in open(\"test2.txt\",\"r\").readlines(): \n",
    "    a.append([float(x) for x in l.split(\",\")[:-1]])\n",
    "df = pd.DataFrame(np.array(a),columns=[\"phase 0\",\"phase 1\",\"phase 2\",\"d_comx\",\"d_comy\",\"d_theta\"])"
   ]
  },
  {
   "cell_type": "code",
   "execution_count": 303,
   "id": "5c17c8b4",
   "metadata": {},
   "outputs": [
    {
     "data": {
      "text/plain": [
       "array([[-1.55212e-06,  1.55212e-06],\n",
       "       [-1.60574e-05,  1.60574e-05],\n",
       "       [-4.02015e-05,  4.02015e-05],\n",
       "       [-9.88707e-05,  9.88707e-05],\n",
       "       [-1.75367e-04,  1.75367e-04],\n",
       "       [-2.68217e-04,  2.68217e-04],\n",
       "       [-3.57527e-04,  3.57527e-04],\n",
       "       [-3.74010e-04,  3.74010e-04],\n",
       "       [-2.16866e-04,  2.16866e-04],\n",
       "       [-6.58285e-05,  6.58285e-05],\n",
       "       [ 9.62567e-05, -9.62567e-05],\n",
       "       [ 2.58706e-04, -2.58706e-04],\n",
       "       [ 4.09694e-04, -4.09694e-04],\n",
       "       [ 5.39728e-04, -5.39728e-04],\n",
       "       [ 4.83414e-04, -4.83414e-04],\n",
       "       [ 3.18390e-04, -3.18390e-04],\n",
       "       [ 1.82611e-04, -1.82611e-04],\n",
       "       [ 7.69810e-05, -7.69810e-05],\n",
       "       [ 2.64972e-05, -2.64972e-05],\n",
       "       [ 1.04390e-05, -1.04389e-05],\n",
       "       [ 2.89024e-05,  9.52568e-06],\n",
       "       [ 9.56112e-06,  2.09359e-05],\n",
       "       [-6.59791e-06,  4.65356e-05],\n",
       "       [-3.32032e-05,  1.05211e-04],\n",
       "       [-8.29629e-05,  1.97268e-04],\n",
       "       [-1.50544e-04,  3.05618e-04],\n",
       "       [-2.35747e-04,  3.90376e-04],\n",
       "       [-3.21318e-04,  3.91534e-04],\n",
       "       [-3.11928e-04,  2.76047e-04],\n",
       "       [-1.86226e-04,  8.83113e-05],\n",
       "       [-6.09202e-05, -9.50431e-05],\n",
       "       [ 8.52080e-05, -2.78896e-04],\n",
       "       [ 2.45731e-04, -4.27654e-04],\n",
       "       [ 3.93637e-04, -5.25550e-04],\n",
       "       [ 5.09666e-04, -5.19334e-04],\n",
       "       [ 4.40863e-04, -3.65023e-04],\n",
       "       [ 3.19172e-04, -1.84583e-04],\n",
       "       [ 2.08527e-04, -6.25587e-05],\n",
       "       [ 1.12779e-04, -5.42671e-06],\n",
       "       [ 5.02673e-05,  3.66678e-06],\n",
       "       [ 8.50548e-05,  2.25769e-05],\n",
       "       [ 5.11236e-05,  2.92436e-05],\n",
       "       [ 2.83814e-05,  4.97960e-05],\n",
       "       [ 1.12191e-05,  1.11307e-04],\n",
       "       [ 1.19799e-06,  2.14481e-04],\n",
       "       [-3.24053e-05,  3.45132e-04],\n",
       "       [-9.54239e-05,  4.40846e-04],\n",
       "       [-1.88867e-04,  4.19919e-04],\n",
       "       [-2.64090e-04,  2.93014e-04],\n",
       "       [-2.70216e-04,  1.38713e-04],\n",
       "       [-1.81069e-04, -7.70725e-05],\n",
       "       [-8.24952e-05, -2.82816e-04],\n",
       "       [ 6.09328e-05, -4.48113e-04],\n",
       "       [ 2.30444e-04, -5.29212e-04],\n",
       "       [ 3.73594e-04, -4.81784e-04],\n",
       "       [ 4.89248e-04, -3.97408e-04],\n",
       "       [ 4.52297e-04, -2.17682e-04],\n",
       "       [ 3.55453e-04, -5.42052e-05],\n",
       "       [ 2.59987e-04,  1.41769e-05],\n",
       "       [ 1.58622e-04,  2.28863e-05],\n",
       "       [ 2.18018e-04,  5.78985e-05],\n",
       "       [ 1.33407e-04,  6.15368e-05],\n",
       "       [ 9.25743e-05,  7.64773e-05],\n",
       "       [ 6.69571e-05,  1.35738e-04],\n",
       "       [ 6.59590e-05,  2.42752e-04],\n",
       "       [ 8.06500e-04,  1.43379e-04],\n",
       "       [ 8.78510e-04,  2.04844e-04],\n",
       "       [-3.86478e-05,  5.20054e-04],\n",
       "       [-1.25669e-04,  3.55588e-04],\n",
       "       [-2.12115e-04,  1.80717e-04],\n",
       "       [-2.39742e-04, -1.29009e-05],\n",
       "       [-1.81833e-04, -2.38375e-04],\n",
       "       [-8.18660e-05, -4.25174e-04],\n",
       "       [ 7.67525e-05, -5.30940e-04],\n",
       "       [ 2.45483e-04, -4.72490e-04],\n",
       "       [ 3.90795e-04, -3.47899e-04],\n",
       "       [ 5.28748e-04, -2.19757e-04],\n",
       "       [ 8.50543e-04,  1.88014e-04],\n",
       "       [ 9.01711e-04,  2.06299e-04],\n",
       "       [ 9.09539e-04,  1.76335e-04],\n",
       "       [ 4.19609e-04,  1.30942e-04],\n",
       "       [ 2.84585e-04,  1.18558e-04],\n",
       "       [ 1.86593e-04,  1.34535e-04],\n",
       "       [ 1.43376e-04,  1.94882e-04],\n",
       "       [ 1.40053e-04,  3.10975e-04],\n",
       "       [ 8.24139e-04,  1.15186e-04],\n",
       "       [ 6.78298e-04, -1.03200e-04],\n",
       "       [ 9.19146e-04,  2.11013e-04],\n",
       "       [ 9.26182e-04,  1.23384e-04],\n",
       "       [-6.78705e-05,  2.72903e-04],\n",
       "       [-1.74434e-04,  6.44620e-05],\n",
       "       [-2.26850e-04, -1.49565e-04],\n",
       "       [-1.69665e-04, -3.51601e-04],\n",
       "       [-5.03357e-05, -4.81498e-04],\n",
       "       [ 1.08450e-04, -4.49791e-04],\n",
       "       [ 2.79057e-04, -3.17157e-04],\n",
       "       [ 8.94190e-04,  9.97917e-05],\n",
       "       [ 7.76380e-04,  5.45033e-05],\n",
       "       [ 8.91325e-04,  2.14949e-04],\n",
       "       [ 5.52267e-04,  1.46211e-04],\n",
       "       [ 6.39236e-04,  2.10946e-04],\n",
       "       [ 4.85037e-04,  1.95849e-04],\n",
       "       [ 3.33404e-04,  2.04717e-04],\n",
       "       [ 2.35953e-04,  2.71882e-04],\n",
       "       [ 9.09099e-04,  2.76558e-05],\n",
       "       [ 9.14747e-04,  1.09593e-04],\n",
       "       [ 8.34448e-04,  6.96870e-05],\n",
       "       [ 2.15982e-04,  8.13408e-04],\n",
       "       [ 1.65094e-04,  6.43975e-04],\n",
       "       [ 8.85376e-05,  4.00465e-04],\n",
       "       [-3.23906e-05,  1.62934e-04],\n",
       "       [-1.65494e-04, -5.52678e-05],\n",
       "       [-2.19860e-04, -2.46687e-04],\n",
       "       [-1.43472e-04, -3.89243e-04],\n",
       "       [-2.22477e-05, -3.79385e-04],\n",
       "       [ 1.39458e-04, -2.72402e-04],\n",
       "       [ 3.49612e-04, -1.24123e-04],\n",
       "       [ 9.14361e-04,  1.23278e-04],\n",
       "       [ 9.17973e-04,  1.34620e-04],\n",
       "       [ 7.53540e-04,  2.13320e-04],\n",
       "       [ 8.13069e-04,  2.59836e-04],\n",
       "       [ 6.81687e-04,  2.55308e-04],\n",
       "       [ 5.08178e-04,  2.66841e-04],\n",
       "       [ 3.53941e-04,  3.34189e-04],\n",
       "       [ 9.28015e-04, -2.94240e-05],\n",
       "       [ 9.15747e-04,  3.55893e-05],\n",
       "       [ 9.03865e-04,  8.45153e-05],\n",
       "       [ 9.06007e-04,  3.52060e-05],\n",
       "       [ 2.67777e-04,  7.57951e-04],\n",
       "       [ 2.17514e-04,  5.18609e-04],\n",
       "       [ 1.14598e-04,  2.58650e-04],\n",
       "       [-3.72870e-05,  2.43165e-05],\n",
       "       [-1.76168e-04, -1.65314e-04],\n",
       "       [-2.19469e-04, -2.93350e-04],\n",
       "       [-1.40822e-04, -2.95328e-04],\n",
       "       [-1.40336e-05, -2.09811e-04],\n",
       "       [ 8.74670e-04,  4.48976e-05],\n",
       "       [ 9.22026e-04,  4.56594e-05],\n",
       "       [ 8.87915e-04,  7.86365e-05],\n",
       "       [ 8.21570e-04,  2.50564e-04],\n",
       "       [ 8.00720e-04,  2.66613e-04],\n",
       "       [ 7.96334e-04,  2.63507e-04],\n",
       "       [ 6.48960e-04,  2.86783e-04],\n",
       "       [ 4.67678e-04,  3.63921e-04],\n",
       "       [ 9.41129e-04, -4.59560e-05],\n",
       "       [ 3.18448e-04,  7.11836e-04],\n",
       "       [ 3.37309e-04,  9.08455e-04],\n",
       "       [ 9.36709e-04,  5.84100e-05],\n",
       "       [ 2.95628e-04,  7.94064e-04],\n",
       "       [ 2.72856e-04,  5.72799e-04],\n",
       "       [ 2.05052e-04,  3.22542e-04],\n",
       "       [ 7.85243e-05,  7.46358e-05],\n",
       "       [-8.34059e-05, -1.26405e-04],\n",
       "       [-2.18748e-04, -2.51544e-04],\n",
       "       [-2.63414e-04, -2.38289e-04],\n",
       "       [-1.83006e-04, -1.64690e-04],\n",
       "       [ 8.46043e-04,  1.06655e-04],\n",
       "       [ 1.49389e-04,  5.22104e-05],\n",
       "       [ 9.26154e-04,  7.49240e-05],\n",
       "       [ 6.13031e-04,  2.37416e-04],\n",
       "       [ 5.13615e-04,  2.00055e-04],\n",
       "       [ 7.00119e-04,  2.22271e-04],\n",
       "       [ 6.94003e-04,  2.34852e-04],\n",
       "       [ 5.29581e-04,  3.09912e-04],\n",
       "       [ 9.26315e-04,  8.69785e-06],\n",
       "       [ 9.30890e-04,  5.98426e-05],\n",
       "       [ 9.25616e-04,  7.07523e-05],\n",
       "       [ 9.00180e-04,  1.19870e-04],\n",
       "       [ 2.59243e-04,  7.48743e-04],\n",
       "       [ 2.38858e-04,  5.49209e-04],\n",
       "       [ 2.04963e-04,  3.14959e-04],\n",
       "       [ 1.21167e-04,  7.97077e-05],\n",
       "       [-1.36339e-05, -1.26101e-04],\n",
       "       [-1.73295e-04, -2.62286e-04],\n",
       "       [-3.11245e-04, -2.45900e-04],\n",
       "       [-3.53097e-04, -1.55550e-04],\n",
       "       [ 9.21629e-04,  2.90031e-05],\n",
       "       [ 9.03973e-04,  1.11426e-04],\n",
       "       [ 9.09482e-04,  6.90275e-05],\n",
       "       [ 2.98779e-04,  1.49075e-04],\n",
       "       [ 1.78843e-04,  8.43743e-05],\n",
       "       [ 3.86499e-04,  1.26228e-04],\n",
       "       [ 5.53020e-04,  1.60359e-04],\n",
       "       [ 5.39530e-04,  2.22216e-04],\n",
       "       [ 3.96291e-04,  3.56055e-04],\n",
       "       [ 2.71748e-04,  5.42994e-04],\n",
       "       [ 8.57087e-04,  6.30451e-05],\n",
       "       [ 1.88698e-04,  7.57633e-04],\n",
       "       [ 1.92157e-04,  6.48401e-04],\n",
       "       [ 1.71212e-04,  4.77585e-04],\n",
       "       [ 1.41030e-04,  2.64068e-04],\n",
       "       [ 9.56030e-05,  3.90691e-05],\n",
       "       [ 5.25990e-06, -1.57200e-04],\n",
       "       [-1.23806e-04, -3.02520e-04],\n",
       "       [-2.85195e-04, -2.95918e-04],\n",
       "       [-4.28900e-04, -1.97509e-04],\n",
       "       [-4.63533e-04, -1.01672e-04],\n",
       "       [-3.62793e-04, -4.07616e-05],\n",
       "       [-2.24134e-04,  9.45033e-07],\n",
       "       [ 8.78114e-04,  4.44958e-05],\n",
       "       [-1.62200e-04, -4.68254e-05],\n",
       "       [ 5.18781e-05, -8.62825e-06],\n",
       "       [ 2.51415e-04,  4.13840e-05],\n",
       "       [ 4.00635e-04,  1.18872e-04],\n",
       "       [ 3.93714e-04,  2.42816e-04],\n",
       "       [ 2.78041e-04,  4.12708e-04],\n",
       "       [ 1.75238e-04,  5.64475e-04],\n",
       "       [ 1.10192e-04,  6.01887e-04],\n",
       "       [ 9.04321e-05,  5.05593e-04],\n",
       "       [ 7.84004e-05,  3.61864e-04],\n",
       "       [ 4.65175e-05,  1.62291e-04],\n",
       "       [ 8.15272e-06, -5.19085e-05],\n",
       "       [-4.18993e-05, -2.51777e-04],\n",
       "       [-1.18627e-04, -4.01115e-04],\n",
       "       [-2.42413e-04, -3.94243e-04],\n",
       "       [-4.11978e-04, -2.79540e-04],\n",
       "       [-5.64149e-04, -1.78101e-04],\n",
       "       [-6.02036e-04, -1.13815e-04],\n",
       "       [-5.04478e-04, -9.33039e-05],\n",
       "       [-3.60372e-04, -7.87058e-05],\n",
       "       [-4.77597e-04, -1.71511e-04],\n",
       "       [-2.64324e-04, -1.41517e-04],\n",
       "       [-3.95123e-05, -9.67054e-05],\n",
       "       [ 1.56229e-04, -6.39947e-06],\n",
       "       [ 3.01288e-04,  1.23423e-04],\n",
       "       [ 2.94484e-04,  2.85237e-04],\n",
       "       [ 1.95333e-04,  4.28912e-04],\n",
       "       [ 9.93750e-05,  4.63391e-04],\n",
       "       [ 3.87317e-05,  3.62800e-04],\n",
       "       [-1.45548e-06,  2.25493e-04],\n",
       "       [-3.54591e-05,  4.12200e-05],\n",
       "       [-8.44067e-05, -1.78666e-04],\n",
       "       [-1.26105e-04, -3.86594e-04],\n",
       "       [-1.59379e-04, -5.53095e-04],\n",
       "       [-2.20756e-04, -5.40053e-04],\n",
       "       [-3.54470e-04, -3.97783e-04],\n",
       "       [-5.41110e-04, -2.75479e-04],\n",
       "       [-7.09321e-04, -2.11930e-04],\n",
       "       [-7.56468e-04, -1.94042e-04],\n",
       "       [-6.46825e-04, -1.94707e-04],\n",
       "       [-7.48637e-04, -2.59383e-04],\n",
       "       [-5.49129e-04, -2.39391e-04],\n",
       "       [-3.15273e-04, -2.05767e-04],\n",
       "       [-8.06717e-05, -1.22832e-04],\n",
       "       [ 1.24875e-04,  1.18886e-05],\n",
       "       [ 2.61094e-04,  1.71978e-04],\n",
       "       [ 2.44505e-04,  3.10090e-04],\n",
       "       [ 1.53725e-04,  3.52303e-04],\n",
       "       [ 7.11119e-05,  2.57135e-04],\n",
       "       [-9.86244e-06,  1.14259e-04],\n",
       "       [-8.36289e-05, -7.38274e-05],\n",
       "       [-1.46520e-04, -2.96334e-04],\n",
       "       [-1.99493e-04, -5.13602e-04],\n",
       "       [-2.21372e-04, -6.99912e-04],\n",
       "       [-2.33525e-04, -6.94238e-04],\n",
       "       [-3.07692e-04, -5.31278e-04],\n",
       "       [-4.55730e-04, -3.78647e-04],\n",
       "       [-6.54412e-04, -2.95944e-04],\n",
       "       [-8.38807e-04, -2.80997e-04],\n",
       "       [-8.82143e-04, -2.76762e-04],\n",
       "       [-9.43772e-04, -3.13935e-04],\n",
       "       [-7.94257e-04, -2.94840e-04],\n",
       "       [-5.73018e-04, -2.72837e-04],\n",
       "       [-3.23012e-04, -2.06063e-04],\n",
       "       [-7.54748e-05, -8.06297e-05],\n",
       "       [ 1.25324e-04,  8.11750e-05],\n",
       "       [ 2.50628e-04,  2.17012e-04],\n",
       "       [ 2.37155e-04,  2.62032e-04],\n",
       "       [ 1.63366e-04,  1.82686e-04],\n",
       "       [ 6.45818e-05,  4.42520e-05],\n",
       "       [-5.14146e-05, -1.47712e-04],\n",
       "       [-1.61830e-04, -3.79916e-04],\n",
       "       [-2.35935e-04, -6.11005e-04],\n",
       "       [-2.65539e-04, -8.00835e-04],\n",
       "       [-2.62336e-04, -7.96570e-04],\n",
       "       [-2.85046e-04, -6.49901e-04],\n",
       "       [-3.61423e-04, -4.70345e-04],\n",
       "       [-5.03232e-04, -3.50684e-04],\n",
       "       [-7.10396e-04, -3.23208e-04],\n",
       "       [-9.09589e-04, -3.40381e-04],\n",
       "       [-8.63198e-04, -3.12411e-04],\n",
       "       [-9.16902e-04, -2.90359e-04],\n",
       "       [-7.58508e-04, -2.66374e-04],\n",
       "       [-5.19052e-04, -2.17309e-04],\n",
       "       [-2.59034e-04, -1.15552e-04],\n",
       "       [-2.46038e-05,  3.48398e-05],\n",
       "       [ 1.64872e-04,  1.73347e-04],\n",
       "       [ 2.93438e-04,  2.16928e-04],\n",
       "       [ 2.94757e-04,  1.39166e-04],\n",
       "       [ 2.08964e-04,  1.41468e-05],\n",
       "       [ 8.36820e-05, -1.76582e-04],\n",
       "       [-6.46996e-05, -4.07873e-04],\n",
       "       [-1.87331e-04, -6.38559e-04],\n",
       "       [-2.50456e-04, -8.19249e-04],\n",
       "       [-2.58855e-04, -8.12770e-04],\n",
       "       [-2.55345e-04, -6.81667e-04],\n",
       "       [-2.66173e-04, -5.08509e-04],\n",
       "       [-3.32325e-04, -3.55172e-04],\n",
       "       [-4.70269e-04, -2.88583e-04],\n",
       "       [-6.66462e-04, -2.94773e-04],\n",
       "       [-5.76071e-04, -2.28903e-04],\n",
       "       [-7.55587e-04, -2.41673e-04],\n",
       "       [-8.13672e-04, -2.14988e-04],\n",
       "       [-6.44295e-04, -1.64050e-04],\n",
       "       [-4.00673e-04, -8.82412e-05],\n",
       "       [ 8.92036e-04,  1.96154e-04],\n",
       "       [ 9.00885e-04,  2.04108e-04],\n",
       "       [ 9.12543e-04,  7.41842e-05],\n",
       "       [ 3.89438e-04,  1.40528e-04],\n",
       "       [ 3.78980e-04,  2.09244e-05],\n",
       "       [ 2.72158e-04, -1.39388e-04],\n",
       "       [ 1.23362e-04, -3.47834e-04],\n",
       "       [-3.54265e-05, -5.62691e-04],\n",
       "       [-1.59831e-04, -7.38759e-04],\n",
       "       [-2.13059e-04, -7.51738e-04],\n",
       "       [-2.10506e-04, -6.39135e-04],\n",
       "       [-1.95643e-04, -4.84943e-04],\n",
       "       [ 8.90250e-04,  2.11362e-04],\n",
       "       [ 8.89990e-04,  1.95772e-04],\n",
       "       [-3.95844e-04, -2.17254e-04],\n",
       "       [-3.11732e-04, -1.39657e-04],\n",
       "       [-4.74554e-04, -1.52010e-04],\n",
       "       [-6.33433e-04, -1.52537e-04],\n",
       "       [-6.67652e-04, -9.75565e-05],\n",
       "       [-4.89775e-04, -2.70917e-05],\n",
       "       [ 5.97398e-04, -6.14013e-05],\n",
       "       [ 6.84621e-04, -1.05924e-04],\n",
       "       [ 9.23501e-04,  1.94274e-04],\n",
       "       [ 3.51912e-04,  1.67001e-04],\n",
       "       [ 4.81421e-04,  4.79255e-05],\n",
       "       [ 4.49389e-04, -1.09618e-04],\n",
       "       [ 3.16767e-04, -2.78872e-04],\n",
       "       [ 1.65498e-04, -4.58787e-04],\n",
       "       [ 8.56124e-06, -6.15300e-04],\n",
       "       [-1.12957e-04, -6.31952e-04],\n",
       "       [-1.45643e-04, -5.51051e-04],\n",
       "       [-1.30480e-04, -4.19832e-04],\n",
       "       [ 8.32511e-04,  1.03983e-04],\n",
       "       [ 6.86400e-04, -9.91762e-05],\n",
       "       [ 9.30706e-04,  1.66756e-04],\n",
       "       [-1.36526e-04, -6.64573e-05],\n",
       "       [-2.43612e-04, -6.44924e-05],\n",
       "       [-3.91189e-04, -6.72742e-05],\n",
       "       [-5.21616e-04, -3.52254e-05],\n",
       "       [-5.20602e-04,  3.98423e-05],\n",
       "       [ 9.17926e-04,  9.83211e-05],\n",
       "       [ 8.12042e-04,  7.43075e-06],\n",
       "       [ 1.36662e-05,  2.39189e-04],\n",
       "       [ 2.38700e-04,  1.80271e-04],\n",
       "       [ 4.25402e-04,  7.97802e-05],\n",
       "       [ 5.31135e-04, -7.88358e-05],\n",
       "       [ 4.72529e-04, -2.46359e-04],\n",
       "       [ 3.48337e-04, -3.91344e-04],\n",
       "       [ 2.18485e-04, -5.28546e-04],\n",
       "       [ 4.16534e-05, -5.12170e-04],\n",
       "       [-5.66034e-05, -4.42221e-04],\n",
       "       [ 9.19407e-04,  4.40391e-05],\n",
       "       [ 9.10129e-04,  9.78496e-05],\n",
       "       [ 8.35669e-04,  2.17171e-05],\n",
       "       [-7.51444e-05, -9.17571e-05],\n",
       "       [-5.00026e-05, -2.76964e-05],\n",
       "       [-1.11564e-04, -1.01820e-05],\n",
       "       [-2.14735e-04,  4.35017e-07],\n",
       "       [-3.45619e-04,  3.41116e-05],\n",
       "       [ 9.25532e-04, -1.68585e-05],\n",
       "       [-4.20109e-04,  1.90043e-04],\n",
       "       [-2.92613e-04,  2.65009e-04],\n",
       "       [-1.37866e-04,  2.70521e-04],\n",
       "       [ 7.79698e-05,  1.80691e-04],\n",
       "       [ 2.83320e-04,  8.10681e-05],\n",
       "       [ 4.48406e-04, -6.30161e-05],\n",
       "       [ 5.29321e-04, -2.33260e-04],\n",
       "       [ 4.82705e-04, -3.76018e-04],\n",
       "       [ 3.98891e-04, -4.91410e-04],\n",
       "       [ 2.17465e-04, -4.51811e-04],\n",
       "       [ 5.37971e-05, -3.53088e-04],\n",
       "       [ 8.69411e-04,  4.73604e-05],\n",
       "       [-2.25262e-05, -1.59478e-04],\n",
       "       [ 9.10468e-04,  6.80954e-05],\n",
       "       [-2.77656e-05, -5.05845e-05],\n",
       "       [-1.99343e-05, -8.86794e-06],\n",
       "       [-4.52840e-05,  7.40413e-06],\n",
       "       [-1.03890e-04,  3.39561e-05],\n",
       "       [-1.96522e-04,  8.38308e-05],\n",
       "       [ 9.29625e-04, -3.02894e-05],\n",
       "       [ 9.38070e-04, -1.07491e-05],\n",
       "       [ 9.00614e-04,  1.00989e-04],\n",
       "       [ 9.33229e-04,  7.34451e-05],\n",
       "       [-8.76253e-05,  1.85600e-04],\n",
       "       [ 9.53930e-05,  6.02560e-05],\n",
       "       [ 2.78295e-04, -8.61136e-05],\n",
       "       [ 4.25988e-04, -2.46785e-04],\n",
       "       [ 5.25204e-04, -3.95453e-04],\n",
       "       [ 5.23562e-04, -5.13008e-04],\n",
       "       [ 3.67643e-04, -4.42267e-04],\n",
       "       [ 1.85999e-04, -3.19132e-04],\n",
       "       [ 9.18878e-04,  4.06190e-05],\n",
       "       [ 9.35313e-04,  3.90566e-06],\n",
       "       [ 9.06353e-04,  1.11280e-04],\n",
       "       [-7.70928e-06, -2.79593e-05]])"
      ]
     },
     "execution_count": 303,
     "metadata": {},
     "output_type": "execute_result"
    }
   ],
   "source": [
    "coms"
   ]
  },
  {
   "cell_type": "code",
   "execution_count": 301,
   "id": "a85800fc",
   "metadata": {},
   "outputs": [
    {
     "data": {
      "image/png": "[encoded data removed]",
      "text/plain": [
       "<Figure size 1944x648 with 6 Axes>"
      ]
     },
     "metadata": {
      "needs_background": "light"
     },
     "output_type": "display_data"
    }
   ],
   "source": [
    "fig, ax = plt.subplots(1,3,figsize=(27,9)); coms = df[[\"d_comx\",\"d_comy\"]].to_numpy()\n",
    "mi = -0.001; ma = 0.001\n",
    "phase_heatmap(df,\"d_comx\",ax[0],\"CoM x-displacement\",size=300,minv=mi,maxv=ma)\n",
    "phase_heatmap(df,\"d_comy\",ax[1],\"CoM y-displacement\",size=300,minv=mi,maxv=ma)\n",
    "phase_heatmap(df,\"d_theta\",ax[2],\"angular drift\",size=300,minv=-0.015,maxv=0.015)"
   ]
  },
  {
   "cell_type": "code",
   "execution_count": null,
   "id": "afbe0fba",
   "metadata": {},
   "outputs": [],
   "source": []
  },
  {
   "cell_type": "code",
   "execution_count": null,
   "id": "f08e5810",
   "metadata": {},
   "outputs": [],
   "source": []
  },
  {
   "cell_type": "code",
   "execution_count": 55,
   "id": "4fcc01f8",
   "metadata": {},
   "outputs": [],
   "source": [
    "def rot(v,theta):\n",
    "    c, s = np.cos(theta), np.sin(theta); R = np.array(((c, -s), (s, c))); return np.dot(R,v)"
   ]
  },
  {
   "cell_type": "code",
   "execution_count": 105,
   "id": "13071c41",
   "metadata": {},
   "outputs": [],
   "source": [
    "sol_col = np.array([[f\"x{i}\", f\"y{i}\"] for i in range(nd)]).flatten().tolist()\n",
    "df = pd.DataFrame(arr,columns=[\"t\"] + sol_col)\n",
    "df = df.assign(comx=df[sol_col[::2]].mean(axis=1),comy=df[sol_col[1::2]].mean(axis=1))\n",
    "df = df.assign(vx=[0] + [(df.comx[i]-df.comx[i-1])/(df.t[i]-df.t[i-1]) for i in range(1,len(df.comx))])\n",
    "shifted = np.array([x.to_numpy()-df[[\"comx\",\"comy\"]].to_numpy() for x in np.split(df[sol_col],nd,axis=1)])\n",
    "df = df.assign(angle=(-np.mean([np.unwrap([np.arctan2(*r)-np.arctan2(*v[0]) for r in v]) \n",
    "                            for v in shifted],axis=0))) # no mod 2 pi here because small change, also everything in radiants "
   ]
  },
  {
   "cell_type": "code",
   "execution_count": null,
   "id": "ca3ded07",
   "metadata": {},
   "outputs": [],
   "source": []
  }
 ],
 "metadata": {
  "kernelspec": {
   "display_name": "Python 3 (ipykernel)",
   "language": "python",
   "name": "python3"
  },
  "language_info": {
   "codemirror_mode": {
    "name": "ipython",
    "version": 3
   },
   "file_extension": ".py",
   "mimetype": "text/x-python",
   "name": "python",
   "nbconvert_exporter": "python",
   "pygments_lexer": "ipython3",
   "version": "3.9.12"
  }
 },
 "nbformat": 4,
 "nbformat_minor": 5
}
